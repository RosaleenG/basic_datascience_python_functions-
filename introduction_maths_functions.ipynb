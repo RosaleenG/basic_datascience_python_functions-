{
 "cells": [
  {
   "cell_type": "code",
   "execution_count": 1,
   "metadata": {},
   "outputs": [],
   "source": [
    "def derivative(w1, w2, x):\n",
    "    \"\"\"\n",
    "    Given the following function f(x) = w1 * x^3 + w2 * x - 1\n",
    "    evaluate the derivative of the function on x\n",
    "\n",
    "    :param w1: first coefficient\n",
    "    :param w2: second coefficient\n",
    "    :param x: point on which to evaluate derivative (float)\n",
    "    :return: value of the derivative on point x\n",
    "    :rtype: float\n",
    "    \"\"\"\n",
    "\n",
    "    return w1 * 3 * x**2 + w2\n"
   ]
  },
  {
   "cell_type": "code",
   "execution_count": 2,
   "metadata": {},
   "outputs": [],
   "source": [
    "def abs_dist(x):\n",
    "    \"\"\"\n",
    "    Return the absolute value of x\n",
    "\n",
    "    :param x: a number (float)\n",
    "    :return: absolute value of x\n",
    "    :rtype: float\n",
    "    \"\"\"\n",
    "\n",
    "    return x if x >= 0 else -x\n"
   ]
  },
  {
   "cell_type": "code",
   "execution_count": 3,
   "metadata": {},
   "outputs": [],
   "source": [
    "def fact(x):\n",
    "    \"\"\"\n",
    "    Return the factorial of x.\n",
    "    Your function should raise a ValueError\n",
    "    if x is negative\n",
    "\n",
    "    :param x: a number (int)\n",
    "    :return: the factorial of x\n",
    "    :rtype: float\n",
    "    :raise ValueError:\n",
    "    \"\"\"\n",
    "\n",
    "    if x < 0:\n",
    "        raise ValueError\n",
    "\n",
    "    return 1 if x <= 1 else x * fact(x - 1)\n"
   ]
  },
  {
   "cell_type": "code",
   "execution_count": 4,
   "metadata": {},
   "outputs": [],
   "source": [
    "def combination(n, r):\n",
    "    \"\"\"\n",
    "    Given n total number of items,\n",
    "    what is the number of possible ways\n",
    "    to choose r items from it?\n",
    "\n",
    "    :param n: total number of items (integer)\n",
    "    :param r: number of items to arrange (int)\n",
    "    :return: number of combinations\n",
    "    :rtype: integer\n",
    "    \"\"\"\n",
    "\n",
    "    return fact(n) / (fact(n - r) * fact(r))\n"
   ]
  }
 ],
 "metadata": {
  "kernelspec": {
   "display_name": "Python 3",
   "language": "python",
   "name": "python3"
  },
  "language_info": {
   "codemirror_mode": {
    "name": "ipython",
    "version": 3
   },
   "file_extension": ".py",
   "mimetype": "text/x-python",
   "name": "python",
   "nbconvert_exporter": "python",
   "pygments_lexer": "ipython3",
   "version": "3.7.6"
  }
 },
 "nbformat": 4,
 "nbformat_minor": 4
}
