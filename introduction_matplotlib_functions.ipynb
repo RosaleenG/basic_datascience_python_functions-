{
 "cells": [
  {
   "cell_type": "code",
   "execution_count": 8,
   "metadata": {},
   "outputs": [],
   "source": [
    "\"\"\"A set of exercises with matplotlib\"\"\"\n",
    "import matplotlib.pyplot as plt\n",
    "import numpy as np\n",
    "%matplotlib inline"
   ]
  },
  {
   "cell_type": "code",
   "execution_count": 9,
   "metadata": {},
   "outputs": [],
   "source": [
    "def draw_co2_plot():\n",
    "    \"\"\"\n",
    "    Here is some chemistry data\n",
    "\n",
    "      Time (decade): 0, 1, 2, 3, 4, 5, 6\n",
    "      CO2 concentration (ppm): 250, 265, 272, 260, 300, 320, 389\n",
    "\n",
    "    Create a line graph of CO2 versus time, the line should be a blue dashed\n",
    "    line. Add a title and axis titles to the plot.\n",
    "    \"\"\"\n",
    "    x = [0, 1, 2, 3, 4, 5, 6]\n",
    "    y = [250, 265, 272, 260, 300, 320, 389]\n",
    "\n",
    "    plt.plot(x, y, ls='--', color='blue')\n",
    "    plt.title(\"Chemistry data\")\n",
    "    plt.xlabel(\"Time (decade)\")\n",
    "    plt.ylabel(\"CO2 concentration (ppm)\")\n",
    "    \n",
    "\n",
    "\n"
   ]
  },
  {
   "cell_type": "code",
   "execution_count": 11,
   "metadata": {},
   "outputs": [],
   "source": [
    "def draw_equations_plot():\n",
    "    \"\"\"\n",
    "    Plot the following lines on the same plot\n",
    "\n",
    "      y=cos(x) coloured in red with dashed lines\n",
    "      y=x^2 coloured in blue with linewidth 3\n",
    "      y=exp(-x^2) coloured in black\n",
    "\n",
    "    Add a legend, title for the x-axis and a title to the curve, the x-axis\n",
    "    should range from -4 to 4 (with 50 points) and the y axis should range\n",
    "    from 0 to 2. The figure should have a size of 8x6 inches.\n",
    "    \"\"\"\n",
    "\n",
    "    x = np.linspace(-4, 4, 50)\n",
    "    y_1 = np.cos(x)\n",
    "    y_2 = x**2\n",
    "    y_3 = np.exp(-y_2)\n",
    "\n",
    "    plt.figure(figsize=(8, 6))\n",
    "    plt.plot(x, y_1, color='red', ls='--', label=\"cos\")\n",
    "    plt.plot(x, y_2, color='blue', lw=3, label=\"quad\")\n",
    "    plt.plot(x, y_3, color='black', label=\"gauss\")\n",
    "\n",
    "    plt.legend()\n",
    "\n",
    "    plt.axis([-4, 4, 0, 2])\n"
   ]
  },
  {
   "cell_type": "code",
   "execution_count": null,
   "metadata": {},
   "outputs": [],
   "source": []
  }
 ],
 "metadata": {
  "kernelspec": {
   "display_name": "Python 3",
   "language": "python",
   "name": "python3"
  },
  "language_info": {
   "codemirror_mode": {
    "name": "ipython",
    "version": 3
   },
   "file_extension": ".py",
   "mimetype": "text/x-python",
   "name": "python",
   "nbconvert_exporter": "python",
   "pygments_lexer": "ipython3",
   "version": "3.7.6"
  }
 },
 "nbformat": 4,
 "nbformat_minor": 4
}
