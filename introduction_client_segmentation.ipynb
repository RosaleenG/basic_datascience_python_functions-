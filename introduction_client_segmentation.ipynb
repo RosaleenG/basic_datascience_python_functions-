{
 "cells": [
  {
   "cell_type": "code",
   "execution_count": 1,
   "metadata": {},
   "outputs": [],
   "source": [
    "# CUSTOMER MANAGEMENT \n",
    "\n",
    "# DO NOT MODIFY CONSTANTS\n",
    "CLIENT_SEGMENT_SAMPLE_1 = [\n",
    "    {\n",
    "        'first-name': 'Elsa',\n",
    "        'last-name': 'Frost',\n",
    "        'title': 'Princess',\n",
    "        'address': '33 Castle Street, London',\n",
    "        'loyalty-program': 'Gold'\n",
    "    },\n",
    "    {\n",
    "        'first-name': 'Anna',\n",
    "        'last-name': 'Frost',\n",
    "        'title': 'Princess',\n",
    "        'address': '34 Castle Street, London',\n",
    "        'loyalty-program': 'Platinum'\n",
    "    },\n",
    "    {\n",
    "        'first-name': 'Harry',\n",
    "        'middle-name': 'Harold',\n",
    "        'last-name': 'Hare',\n",
    "        'title': 'Mr',\n",
    "        'email-address': 'harry.harold@hare.name',\n",
    "        'loyalty-program': 'Silver'\n",
    "    },\n",
    "    {\n",
    "        'first-name': 'Leonnie',\n",
    "        'last-name': 'Lion',\n",
    "        'title': 'Mrs',\n",
    "        'loyalty-program': 'Silver'\n",
    "    },\n",
    "]\n"
   ]
  },
  {
   "cell_type": "code",
   "execution_count": 2,
   "metadata": {},
   "outputs": [],
   "source": [
    "def _preprocess_one_client(client):\n",
    "    \"\"\"\n",
    "    :param client:\n",
    "    :return:\n",
    "    :rtype:\n",
    "    \"\"\"\n",
    "    if 'address' in client.keys():\n",
    "        name_chunks = [\n",
    "            client.get('title'),\n",
    "            client.get('first-name'),\n",
    "            client.get('middle-name'),\n",
    "            client.get('last-name')\n",
    "        ]\n",
    "        name_chunks_not_none = [c for c in name_chunks if c is not None]\n",
    "        name = ' '.join(name_chunks_not_none)\n",
    "        address = client.get('address')\n",
    "        return (name, address)\n",
    "    else:\n",
    "        return None\n"
   ]
  },
  {
   "cell_type": "code",
   "execution_count": 3,
   "metadata": {},
   "outputs": [],
   "source": [
    "def preprocess_client_segment(segment):\n",
    "    \"\"\"This function simplifies a segment of clients to prepare for a marketing\n",
    "    campaign. For each client in the segment, if the client has a registered\n",
    "    address, it makes a tuple that contains the following details:\n",
    "        - full name with title (e.g., \"Mr John Smith\") omitting any part that\n",
    "          are not provided,\n",
    "        - full name includes title, first name, middle name and last name in\n",
    "          that order if defined\n",
    "        - the mailing address (not the email-address).\n",
    "    If a client has no registered address, it should not be included in the\n",
    "    returned list.\n",
    "\n",
    "    E.g., preprocess_segment_for_marketing_campaign(CLIENT_SEGMENT_SAMPLE_1)\n",
    "    inlcudes 'Princess Elsa Frost' but it should not include 'Mrs Leonnie\n",
    "    Lion' because there are no associated addresses in the data.\n",
    "    Ans so, preprocess_segment_for_marketing_campaign(CLIENT_SEGMENT_SAMPLE_1)\n",
    "    includes the tuple ('Princess Elsa Frost', '33 Castle Street, London')\n",
    "\n",
    "    :param segment: list of client records. See sample above.\n",
    "    :return: preprocessed list of tuples consisting of full name and mailing address.\n",
    "    :rtype: list\n",
    "    \"\"\"\n",
    "\n",
    "    summaries = [_preprocess_one_client(client) for client in segment]\n",
    "    summaries_not_none = [s for s in summaries if s is not None]\n",
    "    return summaries_not_none\n"
   ]
  }
 ],
 "metadata": {
  "kernelspec": {
   "display_name": "Python 3",
   "language": "python",
   "name": "python3"
  },
  "language_info": {
   "codemirror_mode": {
    "name": "ipython",
    "version": 3
   },
   "file_extension": ".py",
   "mimetype": "text/x-python",
   "name": "python",
   "nbconvert_exporter": "python",
   "pygments_lexer": "ipython3",
   "version": "3.7.6"
  }
 },
 "nbformat": 4,
 "nbformat_minor": 4
}
