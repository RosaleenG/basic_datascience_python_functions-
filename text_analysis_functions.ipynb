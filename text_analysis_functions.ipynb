{
 "cells": [
  {
   "cell_type": "code",
   "execution_count": 1,
   "metadata": {},
   "outputs": [],
   "source": [
    "# ANALYSE TEXT #\n",
    "import re\n"
   ]
  },
  {
   "cell_type": "code",
   "execution_count": 2,
   "metadata": {},
   "outputs": [],
   "source": [
    "# Sample from 20,000 leagues under the sea by Jules Verne\n",
    "# Available in the public domain\n",
    "# More substantial text available in the text_sample.txt file\n",
    "#\n",
    "# DO NOT MODIFY CONSTANTS\n",
    "TEXT_SAMPLE = \"\"\"\n",
    "Striking an average of observations taken at different times-- rejecting those\n",
    "timid estimates that gave the object a length of 200 feet, and ignoring those\n",
    "exaggerated views that saw it as a mile wide and three long--you could still\n",
    "assert that this phenomenal creature greatly exceeded the dimensions of\n",
    "anything then known to ichthyologists, if it existed at all.\n",
    "Now then, it did exist, this was an undeniable fact; and since the human mind\n",
    "dotes on objects of wonder, you can understand the worldwide excitement caused\n",
    "by this unearthly apparition. As for relegating it to the realm of fiction,\n",
    "that charge had to be dropped.\n",
    "In essence, on July 20, 1866, the steamer Governor Higginson, from the\n",
    "Calcutta & Burnach Steam Navigation Co., encountered this moving mass five\n",
    "miles off the eastern shores of Australia.\n",
    "\"\"\"\n"
   ]
  },
  {
   "cell_type": "code",
   "execution_count": 3,
   "metadata": {},
   "outputs": [],
   "source": [
    "def extract_numbers(text):\n",
    "    \"\"\"\n",
    "    This function finds all the numbers in the text and returns them in a list\n",
    "    of floats.\n",
    "\n",
    "    NOTE: in English, commas are used to separate thousands\n",
    "    NOTE: several consecutive numbers are separated by a comma and a space\n",
    "\n",
    "    E.g., extract_numbers(\"this is 1 awesome string\") is [1.0]\n",
    "    E.g., extract_numbers(\"12 days of XMas\") is [12.0]\n",
    "    E.g., extract_numbers(\"1, 2, 3, un pasito pa'lante Maria\")\n",
    "    is [1.0, 2.0, 3.0]\n",
    "\n",
    "    :param text: string that forms English text\n",
    "    :return: list of numbers (as floats) that are present in the text\n",
    "    :rtype: list\n",
    "    \"\"\"\n",
    "\n",
    "    number_re = re.compile('[0-9][0-9,]*')\n",
    "    numbers = number_re.findall(text)\n",
    "    # strip commas out\n",
    "    striped_numbers = [re.sub(',', '', n) for n in numbers]\n",
    "    return [float(n) for n in striped_numbers]\n"
   ]
  },
  {
   "cell_type": "code",
   "execution_count": 4,
   "metadata": {},
   "outputs": [],
   "source": [
    "def latin_ish_words(text):\n",
    "    \"\"\"\n",
    "    English has words from Latin (or Spanish, Italian, French, etc.) and from\n",
    "    German (or Dutch, etc.). They are often easy to tell apart. This function\n",
    "    picks up some of the Latin sounding words based on some of their features.\n",
    "\n",
    "    Latin features:\n",
    "        - tion (as in navigation, isolation, or mitigation)\n",
    "        - ex (as in explanation, exfiltrate, or expert)\n",
    "        - ph (as in philosophy, philanthropy, or ephemera)\n",
    "        - ost, ist, ast (as in hostel, distribute, past)\n",
    "\n",
    "    NOTE: this matching method is not exact, many Germanic words include those\n",
    "    features, and many Latin words lack them.\n",
    "    NOTE: matching this way should ignore case. For the purpose of this exercise,\n",
    "    we want to match any word containing at least one of the strings above.\n",
    "\n",
    "    E.g., latin_ish_words(\"This works well\") is []\n",
    "    E.g., latin_ish_words(\"This functions as expected\")\n",
    "    is [\"functions\", \"expected\"]\n",
    "\n",
    "    :param text: string that forms English text\n",
    "    :return: list of words present in the text that have any of the Latin\n",
    "    features listed above. Order of the words in the list should be the same as\n",
    "    how they appear in the text.\n",
    "    :rtype: list\n",
    "    \"\"\"\n",
    "\n",
    "    words_re = re.compile(r'[a-z]+', re.IGNORECASE)\n",
    "    feature_re = re.compile('.*(tion|ex|ph|[oia]st).*', re.IGNORECASE)\n",
    "    words_with_features = [\n",
    "        w for w in words_re.findall(text) if feature_re.fullmatch(w)\n",
    "    ]\n",
    "    return words_with_features\n"
   ]
  }
 ],
 "metadata": {
  "kernelspec": {
   "display_name": "Python 3",
   "language": "python",
   "name": "python3"
  },
  "language_info": {
   "codemirror_mode": {
    "name": "ipython",
    "version": 3
   },
   "file_extension": ".py",
   "mimetype": "text/x-python",
   "name": "python",
   "nbconvert_exporter": "python",
   "pygments_lexer": "ipython3",
   "version": "3.7.6"
  }
 },
 "nbformat": 4,
 "nbformat_minor": 4
}
