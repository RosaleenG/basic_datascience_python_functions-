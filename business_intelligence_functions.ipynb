{
 "cells": [
  {
   "cell_type": "code",
   "execution_count": 1,
   "metadata": {},
   "outputs": [],
   "source": [
    "# BUSINESS INTELLIGENCE #\n",
    "#\n",
    "# DO NOT MODIFY CONSTANTS\n",
    "DEVELOPMENT_COST = 1000\n",
    "MANUFACTURING_COST_PER_UNIT = 20\n",
    "\n",
    "\n",
    "def minimum_profitable_volume(sell_price):\n",
    "    \"\"\"\n",
    "    This function computes the minimum number of units that need to be\n",
    "    manufactured and sold in order for the process to be profitable. That is,\n",
    "    given a selling price (as argument), find how many units need to be built\n",
    "    and sold in order for the development and manufacturing cost to be\n",
    "    entirely covered by sales.\n",
    "\n",
    "    E.g., minimum_profitable_volume(1020) is 1\n",
    "    E.g., minimum_profitable_volume(1019) is 2\n",
    "    E.g., minimum_profitable_volume(600) is 2\n",
    "    E.g., minimum_profitable_volume(30) is 100\n",
    "    E.g., minimum_profitable_volume(21) is 1000\n",
    "\n",
    "    :param sell_price: price each unit is sold at\n",
    "    :return: number of units that need to be made and sold\n",
    "    :rtype: float | int\n",
    "    \"\"\"\n",
    "\n",
    "    if sell_price <= MANUFACTURING_COST_PER_UNIT:\n",
    "        return None\n",
    "    profit_per_unit = sell_price - MANUFACTURING_COST_PER_UNIT\n",
    "    (whole_units, mod) = divmod(DEVELOPMENT_COST, profit_per_unit)\n",
    "    if mod == 0:\n",
    "        return whole_units\n",
    "    else:\n",
    "        return whole_units + 1\n"
   ]
  }
 ],
 "metadata": {
  "kernelspec": {
   "display_name": "Python 3",
   "language": "python",
   "name": "python3"
  },
  "language_info": {
   "codemirror_mode": {
    "name": "ipython",
    "version": 3
   },
   "file_extension": ".py",
   "mimetype": "text/x-python",
   "name": "python",
   "nbconvert_exporter": "python",
   "pygments_lexer": "ipython3",
   "version": "3.7.6"
  }
 },
 "nbformat": 4,
 "nbformat_minor": 4
}
