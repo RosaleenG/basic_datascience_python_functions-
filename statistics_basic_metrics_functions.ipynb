{
 "cells": [
  {
   "cell_type": "code",
   "execution_count": 1,
   "metadata": {},
   "outputs": [],
   "source": [
    "# STATISTICS #\n",
    "import math\n",
    "\n",
    "# DO NOT MODIFY CONSTANTS\n",
    "MEASURES_SAMPLE = [\n",
    "    10.1, 10.2, 9.9, 10.1, 11.3, 14.2, 12.3, 12.3, 12.3, 12.1, 12.3, 11.9, 10.2,\n",
    "    10.1, 9.8, 8.9, 9.7, 9.8, 9.8, 10.2, 10.3, 10.5, 12.3, 10.1, 8.9, 9.8, 10.5,\n",
    "    10.1, 10.6, 10.7, 10.0, 9.9, 13.0, 13.1, 13.0, 13.2, 14.0\n",
    "]\n"
   ]
  },
  {
   "cell_type": "code",
   "execution_count": 2,
   "metadata": {},
   "outputs": [],
   "source": [
    "def median_and_means(measures):\n",
    "    \"\"\"\n",
    "    To get an accurate summary of a set of measure, this function computes the\n",
    "    following value and returns them in a tuple:\n",
    "        - median\n",
    "        - mean (average)\n",
    "        - mean of the values between the first quartile and third quartile\n",
    "\n",
    "    E.g., median_and_means([1,2,3,4,5,6,7,8,9]) is (5, 5, 5)\n",
    "\n",
    "    Note: if measures is an empty list, your function should return the object None.\n",
    "\n",
    "    :param measures: list of measures\n",
    "    :return: tuple (med, mean, mean_50) where med is the median of the values\n",
    "    in measures, mean is the mean and mean_50 the mean of the 50% of value in\n",
    "    the middle of the range.\n",
    "    :rtype: tuple\n",
    "    \"\"\"\n",
    "\n",
    "    # Edge case\n",
    "    if not measures:\n",
    "        return None\n",
    "\n",
    "    sorted_measures = sorted(measures)\n",
    "    measures_count = len(measures)\n",
    "\n",
    "    if measures_count % 2 == 0:\n",
    "        median = (sorted_measures[measures_count // 2 - 1] +\n",
    "                  sorted_measures[measures_count // 2]) / 2\n",
    "    else:\n",
    "        median = sorted_measures[measures_count // 2]\n",
    "    average = sum(measures) / measures_count\n",
    "    quart_1 = int(math.ceil(measures_count / 4))\n",
    "    quart_3 = int(math.floor(3 * measures_count / 4))\n",
    "    middle = sorted_measures[quart_1:quart_3]\n",
    "    average_middle = sum(middle) / len(middle)\n",
    "    return (median, average, average_middle)\n"
   ]
  }
 ],
 "metadata": {
  "kernelspec": {
   "display_name": "Python 3",
   "language": "python",
   "name": "python3"
  },
  "language_info": {
   "codemirror_mode": {
    "name": "ipython",
    "version": 3
   },
   "file_extension": ".py",
   "mimetype": "text/x-python",
   "name": "python",
   "nbconvert_exporter": "python",
   "pygments_lexer": "ipython3",
   "version": "3.7.6"
  }
 },
 "nbformat": 4,
 "nbformat_minor": 4
}
