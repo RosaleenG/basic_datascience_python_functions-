{
 "cells": [
  {
   "cell_type": "code",
   "execution_count": 1,
   "metadata": {},
   "outputs": [],
   "source": [
    "def head_tails(p, n):\n",
    "    \"\"\"\n",
    "    Given a coin that have probability p of giving a heads\n",
    "    in each toss independently, what is the probability of\n",
    "    having n heads consecutively in a row?\n",
    "\n",
    "    :param p: probability of a head\n",
    "    :param n: number of heads in a row (int)\n",
    "    :return: probability of having n heads in a row\n",
    "    :rtype: float\n",
    "    \"\"\"\n",
    "\n",
    "    return p**n\n"
   ]
  },
  {
   "cell_type": "code",
   "execution_count": 2,
   "metadata": {},
   "outputs": [],
   "source": [
    "def bin_dist(n, p, x):\n",
    "    \"\"\"\n",
    "    Given n number of trials, p the probability of success,\n",
    "    what is the probability of having x successes?\n",
    "\n",
    "    Your function should raise a ValueError if x is higher\n",
    "    than n.\n",
    "\n",
    "    If you need to compute combinations, you can import the\n",
    "    function \"comb\" from the package \"scipy.special\"\n",
    "\n",
    "    :param n: number of trials (int)\n",
    "    :param p: probability of success\n",
    "    :param x: number of successes (int)\n",
    "    :return: probability of having x successes\n",
    "    :rtype: float\n",
    "    :raise ValueError: if x > n\n",
    "    \"\"\"\n",
    "\n",
    "    from scipy.special import comb\n",
    "\n",
    "    if x > n:\n",
    "        raise ValueError\n",
    "\n",
    "    return comb(n, x) * p**x * (1 - p)**(n - x)\n"
   ]
  },
  {
   "cell_type": "code",
   "execution_count": 3,
   "metadata": {},
   "outputs": [],
   "source": [
    "def bin_cdf(n, p, x):\n",
    "    \"\"\"\n",
    "    Given n number of trials, p the probability of successes,\n",
    "    what is the probability of having less than or equal to x successes?\n",
    "\n",
    "    Your function should raise a ValueError if x is higher\n",
    "    than n.\n",
    "\n",
    "    :param n: number of trials (int)\n",
    "    :param p: probability of success\n",
    "    :param x: number of successes (int)\n",
    "    :return: probability of having less than or\n",
    "    equal to x successes\n",
    "    :rtype: float\n",
    "    :raise ValueError: if x > n\n",
    "    \"\"\"\n",
    "\n",
    "    return sum([bin_dist(n, p, i) for i in range(x + 1)])\n"
   ]
  }
 ],
 "metadata": {
  "kernelspec": {
   "display_name": "Python 3",
   "language": "python",
   "name": "python3"
  },
  "language_info": {
   "codemirror_mode": {
    "name": "ipython",
    "version": 3
   },
   "file_extension": ".py",
   "mimetype": "text/x-python",
   "name": "python",
   "nbconvert_exporter": "python",
   "pygments_lexer": "ipython3",
   "version": "3.7.6"
  }
 },
 "nbformat": 4,
 "nbformat_minor": 4
}
