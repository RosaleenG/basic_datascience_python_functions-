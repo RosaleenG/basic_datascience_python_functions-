{
 "cells": [
  {
   "cell_type": "code",
   "execution_count": 1,
   "metadata": {},
   "outputs": [],
   "source": [
    "def calculate_mean(data):\n",
    "    \"\"\"\n",
    "    Return the mean of a python list\n",
    "\n",
    "    If data is empty raise a ValueError\n",
    "\n",
    "    :param data: a list of numbers\n",
    "    :return: the mean of the list\n",
    "    :rtype: float\n",
    "    :raise ValueError:\n",
    "    \"\"\"\n",
    "\n",
    "    if not data:\n",
    "        raise ValueError\n",
    "\n",
    "    return sum(data) / len(data)\n"
   ]
  },
  {
   "cell_type": "code",
   "execution_count": 2,
   "metadata": {},
   "outputs": [],
   "source": [
    "def calculate_standard_deviation(data):\n",
    "    \"\"\"\n",
    "    Return the standard deviation of a python list\n",
    "\n",
    "    If data is empty raise a ValueError\n",
    "\n",
    "    :param data: list of numbers\n",
    "    :return: the standard deviation of the list\n",
    "    :rtype: float\n",
    "    :raise ValueError:\n",
    "    \"\"\"\n",
    "\n",
    "    mean = calculate_mean(data)\n",
    "\n",
    "    return (sum([(x - mean)**2 for x in data]) / len(data))**0.5\n"
   ]
  },
  {
   "cell_type": "code",
   "execution_count": 3,
   "metadata": {},
   "outputs": [],
   "source": [
    "def remove_outliers(data):\n",
    "    \"\"\"\n",
    "    Given a list of numbers, find outliers and return a new\n",
    "    list that contains all points except outliers\n",
    "    We consider points lying outside 2 standard\n",
    "    deviations from the mean.\n",
    "\n",
    "    Make sure that you do not modify the original list!\n",
    "\n",
    "    If data is empty raise a ValueError\n",
    "\n",
    "    :param data: list of numbers\n",
    "    :return: a new list without outliers\n",
    "    :rtype: list\n",
    "    :raise ValueError:\n",
    "    \"\"\"\n",
    "\n",
    "    std = calculate_standard_deviation(data)\n",
    "    mean = calculate_mean(data)\n",
    "    upper_limit = mean + 2 * std\n",
    "    lower_limit = mean - 2 * std\n",
    "\n",
    "    return [x for x in data if lower_limit <= x <= upper_limit]\n"
   ]
  }
 ],
 "metadata": {
  "kernelspec": {
   "display_name": "Python 3",
   "language": "python",
   "name": "python3"
  },
  "language_info": {
   "codemirror_mode": {
    "name": "ipython",
    "version": 3
   },
   "file_extension": ".py",
   "mimetype": "text/x-python",
   "name": "python",
   "nbconvert_exporter": "python",
   "pygments_lexer": "ipython3",
   "version": "3.7.6"
  }
 },
 "nbformat": 4,
 "nbformat_minor": 4
}
