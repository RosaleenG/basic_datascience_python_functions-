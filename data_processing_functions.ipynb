{
 "cells": [
  {
   "cell_type": "code",
   "execution_count": 1,
   "metadata": {},
   "outputs": [],
   "source": [
    "# DATA PROCESSING \n",
    "\n",
    "# DO NOT MODIFY CONSTANTS\n",
    "PRICES_PER_HOUR_PER_DAY_SAMPLE = [\n",
    "    [11300, 12000, 12100, 12100, 11800, 11100, 10300, 9400],\n",
    "    [10100, 10300, 10200, 10300, 10200, 10100, 10200, 10200],\n",
    "    [10600, 10700, 10100, 10000, 9800, 8400, 7500, 9000],\n",
    "    [9100, 9600, 10200, 10200, 10200, 10300, 10100, 10400],\n",
    "    [10500, 10600, 13200, 10800, 10500, 10200, 9900, 9800]\n",
    "]\n"
   ]
  },
  {
   "cell_type": "code",
   "execution_count": 2,
   "metadata": {},
   "outputs": [],
   "source": [
    "def normalize_prices(prices):\n",
    "    \"\"\"\n",
    "    This function takes an observation of prices of some commodity for\n",
    "    business hours during the days of the week (represented as a list (for\n",
    "    different days) of list (for different hours) of numbers (for the prices).\n",
    "    It normalises the prices so the first value is worth 100.\n",
    "\n",
    "    E.g., normalize_prices([[1, 2], [3, 4]]) is [[100, 200], [300, 400]]\n",
    "    E.g., normalize_prices([[200, 20], [30, 400]]) is [[100, 10], [15, 200]]\n",
    "\n",
    "    :param prices: list of list of prices\n",
    "    :return: normalised list of list of prices where the first price is 100\n",
    "    and the other prices are scaled accordingly\n",
    "    :rtype: list\n",
    "    \"\"\"\n",
    "\n",
    "    factor = 100 / prices[0][0]\n",
    "    normed = [[p * factor for p in day_prices] for day_prices in prices]\n",
    "    return normed\n"
   ]
  },
  {
   "cell_type": "code",
   "execution_count": 3,
   "metadata": {},
   "outputs": [],
   "source": [
    "def flip_prices(prices):\n",
    "    \"\"\"\n",
    "    This function returns a list of dayly prices for each observed hour given\n",
    "    a list of hourly prices for each observed day.\n",
    "\n",
    "    E.g., flip_prices([[1, 2, 3], [4, 5, 6]]) is [[1, 4], [2, 5], [3, 6]]\n",
    "\n",
    "    :param prices: list (for days) of list (for hours) of prices\n",
    "    :return: list (for hours) of list (for days) of prices\n",
    "    :rtype: list\n",
    "    \"\"\"\n",
    "    price_length = len(prices)\n",
    "    daily_length = len(prices[0])\n",
    "\n",
    "    result = [[0] * price_length for _ in range(daily_length)]\n",
    "    for i in range(price_length):\n",
    "        for j in range(daily_length):\n",
    "            result[j][i] = prices[i][j]\n",
    "    return result\n"
   ]
  }
 ],
 "metadata": {
  "kernelspec": {
   "display_name": "Python 3",
   "language": "python",
   "name": "python3"
  },
  "language_info": {
   "codemirror_mode": {
    "name": "ipython",
    "version": 3
   },
   "file_extension": ".py",
   "mimetype": "text/x-python",
   "name": "python",
   "nbconvert_exporter": "python",
   "pygments_lexer": "ipython3",
   "version": "3.7.6"
  }
 },
 "nbformat": 4,
 "nbformat_minor": 4
}
